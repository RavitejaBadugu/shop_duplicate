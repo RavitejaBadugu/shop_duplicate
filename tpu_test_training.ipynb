{
 "cells": [
  {
   "cell_type": "code",
   "execution_count": 1,
   "metadata": {},
   "outputs": [],
   "source": [
    "import os\n",
    "import math\n",
    "import numpy as np\n",
    "import pandas as pd\n",
    "from tqdm import tqdm\n",
    "#from kaggle_datasets import KaggleDatasets\n",
    "import tensorflow as tf\n",
    "import tensorflow.keras.backend as K"
   ]
  },
  {
   "cell_type": "code",
   "execution_count": 2,
   "metadata": {},
   "outputs": [],
   "source": [
    "import warnings\n",
    "warnings.filterwarnings(action='ignore')"
   ]
  },
  {
   "cell_type": "code",
   "execution_count": 3,
   "metadata": {},
   "outputs": [
    {
     "name": "stdout",
     "output_type": "stream",
     "text": [
      "REPLICAS:  1\n"
     ]
    }
   ],
   "source": [
    "try:\n",
    "    # TPU detection. No parameters necessary if TPU_NAME environment variable is\n",
    "    # set: this is always the case on Kaggle.\n",
    "    tpu = tf.distribute.cluster_resolver.TPUClusterResolver()\n",
    "    print('Running on TPU ', tpu.master())\n",
    "except ValueError:\n",
    "    tpu = None\n",
    "\n",
    "if tpu:\n",
    "    tf.config.experimental_connect_to_cluster(tpu)\n",
    "    tf.tpu.experimental.initialize_tpu_system(tpu)\n",
    "    strategy = tf.distribute.TPUStrategy(tpu)\n",
    "else:\n",
    "    # Default distribution strategy in Tensorflow. Works on CPU and single GPU.\n",
    "    strategy = tf.distribute.get_strategy()\n",
    "\n",
    "print(\"REPLICAS: \", strategy.num_replicas_in_sync)"
   ]
  },
  {
   "cell_type": "code",
   "execution_count": 4,
   "metadata": {},
   "outputs": [],
   "source": [
    "BATCH_SIZE=32 * strategy.num_replicas_in_sync\n",
    "MAX_LENGTH=270\n",
    "PRE_TRAINED_NAME=\"bert-base-uncased\""
   ]
  },
  {
   "cell_type": "code",
   "execution_count": null,
   "metadata": {},
   "outputs": [],
   "source": [
    "GCS_PATH = KaggleDatasets().get_gcs_path('shop-512-size-tfrecords')"
   ]
  },
  {
   "cell_type": "code",
   "execution_count": 5,
   "metadata": {},
   "outputs": [
    {
     "data": {
      "text/html": [
       "<div>\n",
       "<style scoped>\n",
       "    .dataframe tbody tr th:only-of-type {\n",
       "        vertical-align: middle;\n",
       "    }\n",
       "\n",
       "    .dataframe tbody tr th {\n",
       "        vertical-align: top;\n",
       "    }\n",
       "\n",
       "    .dataframe thead th {\n",
       "        text-align: right;\n",
       "    }\n",
       "</style>\n",
       "<table border=\"1\" class=\"dataframe\">\n",
       "  <thead>\n",
       "    <tr style=\"text-align: right;\">\n",
       "      <th></th>\n",
       "      <th>posting_id</th>\n",
       "      <th>image</th>\n",
       "      <th>image_phash</th>\n",
       "      <th>title</th>\n",
       "      <th>label_group</th>\n",
       "      <th>image_path</th>\n",
       "      <th>gfold</th>\n",
       "    </tr>\n",
       "  </thead>\n",
       "  <tbody>\n",
       "    <tr>\n",
       "      <th>0</th>\n",
       "      <td>train_129225211</td>\n",
       "      <td>0000a68812bc7e98c42888dfb1c07da0.jpg</td>\n",
       "      <td>94974f937d4c2433</td>\n",
       "      <td>Paper Bag Victoria Secret</td>\n",
       "      <td>666</td>\n",
       "      <td>train_images\\0000a68812bc7e98c42888dfb1c07da0.jpg</td>\n",
       "      <td>0</td>\n",
       "    </tr>\n",
       "    <tr>\n",
       "      <th>1</th>\n",
       "      <td>train_3386243561</td>\n",
       "      <td>00039780dfc94d01db8676fe789ecd05.jpg</td>\n",
       "      <td>af3f9460c2838f0f</td>\n",
       "      <td>Double Tape 3M VHB 12 mm x 4,5 m ORIGINAL / DO...</td>\n",
       "      <td>7572</td>\n",
       "      <td>train_images\\00039780dfc94d01db8676fe789ecd05.jpg</td>\n",
       "      <td>2</td>\n",
       "    </tr>\n",
       "    <tr>\n",
       "      <th>2</th>\n",
       "      <td>train_2288590299</td>\n",
       "      <td>000a190fdd715a2a36faed16e2c65df7.jpg</td>\n",
       "      <td>b94cb00ed3e50f78</td>\n",
       "      <td>Maling TTS Canned Pork Luncheon Meat 397 gr</td>\n",
       "      <td>6172</td>\n",
       "      <td>train_images\\000a190fdd715a2a36faed16e2c65df7.jpg</td>\n",
       "      <td>0</td>\n",
       "    </tr>\n",
       "    <tr>\n",
       "      <th>3</th>\n",
       "      <td>train_2406599165</td>\n",
       "      <td>00117e4fc239b1b641ff08340b429633.jpg</td>\n",
       "      <td>8514fc58eafea283</td>\n",
       "      <td>Daster Batik Lengan pendek - Motif Acak / Camp...</td>\n",
       "      <td>10509</td>\n",
       "      <td>train_images\\00117e4fc239b1b641ff08340b429633.jpg</td>\n",
       "      <td>1</td>\n",
       "    </tr>\n",
       "    <tr>\n",
       "      <th>4</th>\n",
       "      <td>train_3369186413</td>\n",
       "      <td>00136d1cf4edede0203f32f05f660588.jpg</td>\n",
       "      <td>a6f319f924ad708c</td>\n",
       "      <td>Nescafe \\xc3\\x89clair Latte 220ml</td>\n",
       "      <td>9425</td>\n",
       "      <td>train_images\\00136d1cf4edede0203f32f05f660588.jpg</td>\n",
       "      <td>3</td>\n",
       "    </tr>\n",
       "  </tbody>\n",
       "</table>\n",
       "</div>"
      ],
      "text/plain": [
       "         posting_id                                 image       image_phash  \\\n",
       "0   train_129225211  0000a68812bc7e98c42888dfb1c07da0.jpg  94974f937d4c2433   \n",
       "1  train_3386243561  00039780dfc94d01db8676fe789ecd05.jpg  af3f9460c2838f0f   \n",
       "2  train_2288590299  000a190fdd715a2a36faed16e2c65df7.jpg  b94cb00ed3e50f78   \n",
       "3  train_2406599165  00117e4fc239b1b641ff08340b429633.jpg  8514fc58eafea283   \n",
       "4  train_3369186413  00136d1cf4edede0203f32f05f660588.jpg  a6f319f924ad708c   \n",
       "\n",
       "                                               title  label_group  \\\n",
       "0                          Paper Bag Victoria Secret          666   \n",
       "1  Double Tape 3M VHB 12 mm x 4,5 m ORIGINAL / DO...         7572   \n",
       "2        Maling TTS Canned Pork Luncheon Meat 397 gr         6172   \n",
       "3  Daster Batik Lengan pendek - Motif Acak / Camp...        10509   \n",
       "4                  Nescafe \\xc3\\x89clair Latte 220ml         9425   \n",
       "\n",
       "                                          image_path  gfold  \n",
       "0  train_images\\0000a68812bc7e98c42888dfb1c07da0.jpg      0  \n",
       "1  train_images\\00039780dfc94d01db8676fe789ecd05.jpg      2  \n",
       "2  train_images\\000a190fdd715a2a36faed16e2c65df7.jpg      0  \n",
       "3  train_images\\00117e4fc239b1b641ff08340b429633.jpg      1  \n",
       "4  train_images\\00136d1cf4edede0203f32f05f660588.jpg      3  "
      ]
     },
     "execution_count": 5,
     "metadata": {},
     "output_type": "execute_result"
    }
   ],
   "source": [
    "df=pd.read_csv(\"processed_data/fold_data.csv\")\n",
    "df.head()"
   ]
  },
  {
   "cell_type": "code",
   "execution_count": 6,
   "metadata": {},
   "outputs": [],
   "source": [
    "train_steps={}\n",
    "valid_steps={}\n",
    "for fold in range(5):\n",
    "    valid_data=df.loc[df['gfold']==fold].reset_index(drop=True)\n",
    "    valid_steps[fold]=valid_data.shape[0]\n",
    "    train_steps[fold]=df.shape[0]-valid_data.shape[0]"
   ]
  },
  {
   "cell_type": "code",
   "execution_count": 7,
   "metadata": {},
   "outputs": [],
   "source": [
    "from transformers import TFBertModel,TFRobertaModel,TFAlbertModel,TFXLNetModel\n",
    "from transformers import BertTokenizer,RobertaTokenizer,AlbertTokenizer,XLNetTokenizer"
   ]
  },
  {
   "cell_type": "code",
   "execution_count": 8,
   "metadata": {},
   "outputs": [],
   "source": [
    "TOKENIZER=BertTokenizer.from_pretrained(\"bert-base-uncased\")"
   ]
  },
  {
   "cell_type": "code",
   "execution_count": 9,
   "metadata": {},
   "outputs": [],
   "source": [
    "def MAKE_MODEL_INPUTS(data):\n",
    "    INPUT_IDS=np.zeros((data.shape[0],MAX_LENGTH),dtype=np.int32)\n",
    "    ATTENTION_MASK=np.zeros((data.shape[0],MAX_LENGTH),dtype=np.int32)\n",
    "    TOKEN_TYPE_IDS=np.zeros((data.shape[0],MAX_LENGTH),dtype=np.int32)\n",
    "    Y=np.zeros((data.shape[0],))\n",
    "    n_iters=int(np.ceil(data.shape[0]/BATCH_SIZE))\n",
    "    max_end=data.shape[0]\n",
    "    for batch in tqdm(range(n_iters)):\n",
    "        start=batch*BATCH_SIZE\n",
    "        end=(batch+1)*BATCH_SIZE\n",
    "        if end>max_end:\n",
    "            end=max_end\n",
    "        samples=data.iloc[start:end]['title'].values.tolist()\n",
    "        tokenized_samples=TOKENIZER.batch_encode_plus(samples,max_length=MAX_LENGTH,padding='max_length',truncation='longest_first')\n",
    "        INPUT_IDS[start:end,]=tokenized_samples['input_ids']\n",
    "        ATTENTION_MASK[start:end,]=tokenized_samples['attention_mask']\n",
    "        TOKEN_TYPE_IDS[start:end,]=tokenized_samples['token_type_ids']\n",
    "        Y[start:end]=data.iloc[start:end]['label_group']\n",
    "    MODEL_INPUTS=({\"input_ids\":INPUT_IDS,\"attention_mask\":ATTENTION_MASK,\"token_type_ids\":TOKEN_TYPE_IDS},Y)\n",
    "    MODEL_OUTPUTS=Y\n",
    "    return MODEL_INPUTS,MODEL_OUTPUTS"
   ]
  },
  {
   "cell_type": "code",
   "execution_count": 11,
   "metadata": {},
   "outputs": [
    {
     "name": "stderr",
     "output_type": "stream",
     "text": [
      "100%|██████████| 857/857 [00:11<00:00, 77.89it/s]\n",
      "100%|██████████| 215/215 [00:02<00:00, 76.33it/s]\n",
      "100%|██████████| 857/857 [00:11<00:00, 71.46it/s]\n",
      "100%|██████████| 215/215 [00:02<00:00, 75.87it/s]\n",
      "100%|██████████| 857/857 [00:11<00:00, 76.54it/s]\n",
      "100%|██████████| 215/215 [00:02<00:00, 76.75it/s]\n",
      "100%|██████████| 857/857 [00:10<00:00, 79.48it/s]\n",
      "100%|██████████| 215/215 [00:02<00:00, 72.85it/s]\n",
      "100%|██████████| 857/857 [00:11<00:00, 71.66it/s]\n",
      "100%|██████████| 215/215 [00:02<00:00, 82.13it/s]\n"
     ]
    }
   ],
   "source": [
    "FOLDS_INPUTS={}\n",
    "for i in range(5):\n",
    "    train_data=df.loc[df['gfold']!=i].reset_index(drop=True)\n",
    "    test_data=df.loc[df['gfold']==i].reset_index(drop=True)\n",
    "    FOLDS_INPUTS[i]={}\n",
    "    FOLDS_INPUTS[i]['train']=MAKE_MODEL_INPUTS(train_data)\n",
    "    FOLDS_INPUTS[i]['test']=MAKE_MODEL_INPUTS(test_data)"
   ]
  },
  {
   "cell_type": "code",
   "execution_count": 13,
   "metadata": {},
   "outputs": [],
   "source": [
    "from tensorflow.keras.layers import Input,Dense\n",
    "from tensorflow.keras.models import Model"
   ]
  },
  {
   "cell_type": "code",
   "execution_count": 14,
   "metadata": {},
   "outputs": [],
   "source": [
    "class ARCFACE_LAYER(tf.keras.layers.Layer):\n",
    "    def __init__(self,m=0.5,s=30,n_classes=11014):\n",
    "        super(ARCFACE_LAYER,self).__init__()\n",
    "        self.m=m\n",
    "        self.s=s\n",
    "        self.sin_m=tf.sin(m)\n",
    "        self.cos_m=tf.cos(m)\n",
    "        self.n_classes=n_classes\n",
    "        self.threshold = tf.cos(math.pi - m)\n",
    "        self.mm = tf.math.sin(math.pi - m) * m\n",
    "\n",
    "    def build(self,input_shape):\n",
    "        prev_layer_units=input_shape[0][1]\n",
    "        self.w=self.add_weight(shape=(prev_layer_units,self.n_classes),trainable=True,\n",
    "                              initializer='glorot_uniform')\n",
    "\n",
    "    def get_config(self):\n",
    "        config=super().get_config()\n",
    "        config.update({\"m\":0.5,\n",
    "                       \"s\":30,\n",
    "                       \"n_classes\":11014})\n",
    "        return config\n",
    "\n",
    "\n",
    "    def call(self,inputs):\n",
    "        prev_layer,y=inputs\n",
    "        y=tf.cast(y,dtype=tf.int32)\n",
    "        y_hot=tf.one_hot(y,self.n_classes)\n",
    "        y_hot=tf.cast(y_hot,dtype=tf.float32)\n",
    "        w_norm=tf.linalg.l2_normalize(self.w,axis=0)\n",
    "        x_norm=tf.linalg.l2_normalize(prev_layer,axis=1)\n",
    "        cos_theta=tf.linalg.matmul(x_norm,w_norm)\n",
    "        sin_theta=tf.sqrt(1-tf.pow(cos_theta,tf.cast(2,dtype=tf.float32)))\n",
    "        cos_theta_m=(cos_theta*self.cos_m)-(sin_theta*self.sin_m)\n",
    "        cos_theta_m=tf.where(cos_theta>self.threshold,cos_theta_m,cos_theta-self.mm)\n",
    "        final=self.s*((y_hot*cos_theta_m)+((1-y_hot)*cos_theta))\n",
    "        return final"
   ]
  },
  {
   "cell_type": "code",
   "execution_count": 15,
   "metadata": {},
   "outputs": [
    {
     "name": "stderr",
     "output_type": "stream",
     "text": [
      "Downloading: 100%|██████████| 511M/511M [01:53<00:00, 4.74MB/s]   \n",
      "Some layers from the model checkpoint at bert-base-uncased were not used when initializing TFBertModel: ['nsp___cls', 'mlm___cls']\n",
      "- This IS expected if you are initializing TFBertModel from the checkpoint of a model trained on another task or with another architecture (e.g. initializing a BertForSequenceClassification model from a BertForPreTraining model).\n",
      "- This IS NOT expected if you are initializing TFBertModel from the checkpoint of a model that you expect to be exactly identical (initializing a BertForSequenceClassification model from a BertForSequenceClassification model).\n",
      "All the layers of TFBertModel were initialized from the model checkpoint at bert-base-uncased.\n",
      "If your task is similar to the task the model of the checkpoint was trained on, you can already use TFBertModel for predictions without further training.\n"
     ]
    },
    {
     "name": "stdout",
     "output_type": "stream",
     "text": [
      "training for fold 0\n",
      "Model: \"model\"\n",
      "__________________________________________________________________________________________________\n",
      " Layer (type)                   Output Shape         Param #     Connected to                     \n",
      "==================================================================================================\n",
      " input_2 (InputLayer)           [(None, 270)]        0           []                               \n",
      "                                                                                                  \n",
      " input_1 (InputLayer)           [(None, 270)]        0           []                               \n",
      "                                                                                                  \n",
      " input_3 (InputLayer)           [(None, 270)]        0           []                               \n",
      "                                                                                                  \n",
      " tf_bert_model (TFBertModel)    TFBaseModelOutputWi  109482240   ['input_2[0][0]',                \n",
      "                                thPoolingAndCrossAt               'input_1[0][0]',                \n",
      "                                tentions(last_hidde               'input_3[0][0]']                \n",
      "                                n_state=(None, 270,                                               \n",
      "                                 768),                                                            \n",
      "                                 pooler_output=(Non                                               \n",
      "                                e, 768),                                                          \n",
      "                                 past_key_values=No                                               \n",
      "                                ne, hidden_states=(                                               \n",
      "                                (None, 270, 768),                                                 \n",
      "                                 (None, 270, 768),                                                \n",
      "                                 (None, 270, 768),                                                \n",
      "                                 (None, 270, 768),                                                \n",
      "                                 (None, 270, 768),                                                \n",
      "                                 (None, 270, 768),                                                \n",
      "                                 (None, 270, 768),                                                \n",
      "                                 (None, 270, 768),                                                \n",
      "                                 (None, 270, 768),                                                \n",
      "                                 (None, 270, 768),                                                \n",
      "                                 (None, 270, 768),                                                \n",
      "                                 (None, 270, 768),                                                \n",
      "                                 (None, 270, 768)),                                               \n",
      "                                 attentions=None, c                                               \n",
      "                                ross_attentions=Non                                               \n",
      "                                e)                                                                \n",
      "                                                                                                  \n",
      " concatenate (Concatenate)      (None, 270, 3072)    0           ['tf_bert_model[0][12]',         \n",
      "                                                                  'tf_bert_model[0][11]',         \n",
      "                                                                  'tf_bert_model[0][10]',         \n",
      "                                                                  'tf_bert_model[0][9]']          \n",
      "                                                                                                  \n",
      " tf.__operators__.getitem (Slic  (None, 3072)        0           ['concatenate[0][0]']            \n",
      " ingOpLambda)                                                                                     \n",
      "                                                                                                  \n",
      " dense (Dense)                  (None, 512)          1573376     ['tf.__operators__.getitem[0][0]'\n",
      "                                                                 ]                                \n",
      "                                                                                                  \n",
      " label_input (InputLayer)       [(None,)]            0           []                               \n",
      "                                                                                                  \n",
      " arcface_layer (ARCFACE_LAYER)  (None, 11014)        5639168     ['dense[0][0]',                  \n",
      "                                                                  'label_input[0][0]']            \n",
      "                                                                                                  \n",
      " softmax (Softmax)              (None, 11014)        0           ['arcface_layer[0][0]']          \n",
      "                                                                                                  \n",
      "==================================================================================================\n",
      "Total params: 116,694,784\n",
      "Trainable params: 116,694,784\n",
      "Non-trainable params: 0\n",
      "__________________________________________________________________________________________________\n",
      "None\n",
      "Epoch 1/40\n",
      "WARNING:tensorflow:Gradients do not exist for variables ['tf_bert_model/bert/pooler/dense/kernel:0', 'tf_bert_model/bert/pooler/dense/bias:0'] when minimizing the loss. If you're using `model.compile()`, did you forget to provide a `loss`argument?\n",
      "WARNING:tensorflow:Gradients do not exist for variables ['tf_bert_model/bert/pooler/dense/kernel:0', 'tf_bert_model/bert/pooler/dense/bias:0'] when minimizing the loss. If you're using `model.compile()`, did you forget to provide a `loss`argument?\n"
     ]
    },
    {
     "ename": "ResourceExhaustedError",
     "evalue": "Graph execution error:\n\nDetected at node 'model/tf_bert_model/bert/encoder/layer_._0/intermediate/dense/Tensordot/MatMul' defined at (most recent call last):\n    File \"c:\\Users\\ravi1\\anaconda3\\envs\\restaurant\\lib\\runpy.py\", line 197, in _run_module_as_main\n      return _run_code(code, main_globals, None,\n    File \"c:\\Users\\ravi1\\anaconda3\\envs\\restaurant\\lib\\runpy.py\", line 87, in _run_code\n      exec(code, run_globals)\n    File \"c:\\Users\\ravi1\\anaconda3\\envs\\restaurant\\lib\\site-packages\\ipykernel_launcher.py\", line 17, in <module>\n      app.launch_new_instance()\n    File \"c:\\Users\\ravi1\\anaconda3\\envs\\restaurant\\lib\\site-packages\\traitlets\\config\\application.py\", line 976, in launch_instance\n      app.start()\n    File \"c:\\Users\\ravi1\\anaconda3\\envs\\restaurant\\lib\\site-packages\\ipykernel\\kernelapp.py\", line 712, in start\n      self.io_loop.start()\n    File \"c:\\Users\\ravi1\\anaconda3\\envs\\restaurant\\lib\\site-packages\\tornado\\platform\\asyncio.py\", line 199, in start\n      self.asyncio_loop.run_forever()\n    File \"c:\\Users\\ravi1\\anaconda3\\envs\\restaurant\\lib\\asyncio\\base_events.py\", line 601, in run_forever\n      self._run_once()\n    File \"c:\\Users\\ravi1\\anaconda3\\envs\\restaurant\\lib\\asyncio\\base_events.py\", line 1905, in _run_once\n      handle._run()\n    File \"c:\\Users\\ravi1\\anaconda3\\envs\\restaurant\\lib\\asyncio\\events.py\", line 80, in _run\n      self._context.run(self._callback, *self._args)\n    File \"c:\\Users\\ravi1\\anaconda3\\envs\\restaurant\\lib\\site-packages\\ipykernel\\kernelbase.py\", line 510, in dispatch_queue\n      await self.process_one()\n    File \"c:\\Users\\ravi1\\anaconda3\\envs\\restaurant\\lib\\site-packages\\ipykernel\\kernelbase.py\", line 499, in process_one\n      await dispatch(*args)\n    File \"c:\\Users\\ravi1\\anaconda3\\envs\\restaurant\\lib\\site-packages\\ipykernel\\kernelbase.py\", line 406, in dispatch_shell\n      await result\n    File \"c:\\Users\\ravi1\\anaconda3\\envs\\restaurant\\lib\\site-packages\\ipykernel\\kernelbase.py\", line 730, in execute_request\n      reply_content = await reply_content\n    File \"c:\\Users\\ravi1\\anaconda3\\envs\\restaurant\\lib\\site-packages\\ipykernel\\ipkernel.py\", line 383, in do_execute\n      res = shell.run_cell(\n    File \"c:\\Users\\ravi1\\anaconda3\\envs\\restaurant\\lib\\site-packages\\ipykernel\\zmqshell.py\", line 528, in run_cell\n      return super().run_cell(*args, **kwargs)\n    File \"c:\\Users\\ravi1\\anaconda3\\envs\\restaurant\\lib\\site-packages\\IPython\\core\\interactiveshell.py\", line 2881, in run_cell\n      result = self._run_cell(\n    File \"c:\\Users\\ravi1\\anaconda3\\envs\\restaurant\\lib\\site-packages\\IPython\\core\\interactiveshell.py\", line 2936, in _run_cell\n      return runner(coro)\n    File \"c:\\Users\\ravi1\\anaconda3\\envs\\restaurant\\lib\\site-packages\\IPython\\core\\async_helpers.py\", line 129, in _pseudo_sync_runner\n      coro.send(None)\n    File \"c:\\Users\\ravi1\\anaconda3\\envs\\restaurant\\lib\\site-packages\\IPython\\core\\interactiveshell.py\", line 3135, in run_cell_async\n      has_raised = await self.run_ast_nodes(code_ast.body, cell_name,\n    File \"c:\\Users\\ravi1\\anaconda3\\envs\\restaurant\\lib\\site-packages\\IPython\\core\\interactiveshell.py\", line 3338, in run_ast_nodes\n      if await self.run_code(code, result, async_=asy):\n    File \"c:\\Users\\ravi1\\anaconda3\\envs\\restaurant\\lib\\site-packages\\IPython\\core\\interactiveshell.py\", line 3398, in run_code\n      exec(code_obj, self.user_global_ns, self.user_ns)\n    File \"C:\\Users\\ravi1\\AppData\\Local\\Temp\\ipykernel_7140\\510268190.py\", line 41, in <cell line: 1>\n      model.fit(TRAIN_INPUTS,TRAIN_OUTPUTS,\n    File \"c:\\Users\\ravi1\\anaconda3\\envs\\restaurant\\lib\\site-packages\\keras\\utils\\traceback_utils.py\", line 64, in error_handler\n      return fn(*args, **kwargs)\n    File \"c:\\Users\\ravi1\\anaconda3\\envs\\restaurant\\lib\\site-packages\\keras\\engine\\training.py\", line 1409, in fit\n      tmp_logs = self.train_function(iterator)\n    File \"c:\\Users\\ravi1\\anaconda3\\envs\\restaurant\\lib\\site-packages\\keras\\engine\\training.py\", line 1051, in train_function\n      return step_function(self, iterator)\n    File \"c:\\Users\\ravi1\\anaconda3\\envs\\restaurant\\lib\\site-packages\\keras\\engine\\training.py\", line 1040, in step_function\n      outputs = model.distribute_strategy.run(run_step, args=(data,))\n    File \"c:\\Users\\ravi1\\anaconda3\\envs\\restaurant\\lib\\site-packages\\keras\\engine\\training.py\", line 1030, in run_step\n      outputs = model.train_step(data)\n    File \"c:\\Users\\ravi1\\anaconda3\\envs\\restaurant\\lib\\site-packages\\keras\\engine\\training.py\", line 889, in train_step\n      y_pred = self(x, training=True)\n    File \"c:\\Users\\ravi1\\anaconda3\\envs\\restaurant\\lib\\site-packages\\keras\\utils\\traceback_utils.py\", line 64, in error_handler\n      return fn(*args, **kwargs)\n    File \"c:\\Users\\ravi1\\anaconda3\\envs\\restaurant\\lib\\site-packages\\keras\\engine\\training.py\", line 490, in __call__\n      return super().__call__(*args, **kwargs)\n    File \"c:\\Users\\ravi1\\anaconda3\\envs\\restaurant\\lib\\site-packages\\keras\\utils\\traceback_utils.py\", line 64, in error_handler\n      return fn(*args, **kwargs)\n    File \"c:\\Users\\ravi1\\anaconda3\\envs\\restaurant\\lib\\site-packages\\keras\\engine\\base_layer.py\", line 1014, in __call__\n      outputs = call_fn(inputs, *args, **kwargs)\n    File \"c:\\Users\\ravi1\\anaconda3\\envs\\restaurant\\lib\\site-packages\\keras\\utils\\traceback_utils.py\", line 92, in error_handler\n      return fn(*args, **kwargs)\n    File \"c:\\Users\\ravi1\\anaconda3\\envs\\restaurant\\lib\\site-packages\\keras\\engine\\functional.py\", line 458, in call\n      return self._run_internal_graph(\n    File \"c:\\Users\\ravi1\\anaconda3\\envs\\restaurant\\lib\\site-packages\\keras\\engine\\functional.py\", line 596, in _run_internal_graph\n      outputs = node.layer(*args, **kwargs)\n    File \"c:\\Users\\ravi1\\anaconda3\\envs\\restaurant\\lib\\site-packages\\keras\\utils\\traceback_utils.py\", line 64, in error_handler\n      return fn(*args, **kwargs)\n    File \"c:\\Users\\ravi1\\anaconda3\\envs\\restaurant\\lib\\site-packages\\keras\\engine\\training.py\", line 490, in __call__\n      return super().__call__(*args, **kwargs)\n    File \"c:\\Users\\ravi1\\anaconda3\\envs\\restaurant\\lib\\site-packages\\keras\\utils\\traceback_utils.py\", line 64, in error_handler\n      return fn(*args, **kwargs)\n    File \"c:\\Users\\ravi1\\anaconda3\\envs\\restaurant\\lib\\site-packages\\keras\\engine\\base_layer.py\", line 1014, in __call__\n      outputs = call_fn(inputs, *args, **kwargs)\n    File \"c:\\Users\\ravi1\\anaconda3\\envs\\restaurant\\lib\\site-packages\\keras\\utils\\traceback_utils.py\", line 92, in error_handler\n      return fn(*args, **kwargs)\n    File \"c:\\Users\\ravi1\\anaconda3\\envs\\restaurant\\lib\\site-packages\\transformers\\modeling_tf_utils.py\", line 1078, in run_call_with_unpacked_inputs\n      arg_names = list(dict(inspect.signature(self.call).parameters).keys())\n    File \"c:\\Users\\ravi1\\anaconda3\\envs\\restaurant\\lib\\site-packages\\transformers\\models\\bert\\modeling_tf_bert.py\", line 1109, in call\n      outputs = self.bert(\n    File \"c:\\Users\\ravi1\\anaconda3\\envs\\restaurant\\lib\\site-packages\\keras\\utils\\traceback_utils.py\", line 64, in error_handler\n      return fn(*args, **kwargs)\n    File \"c:\\Users\\ravi1\\anaconda3\\envs\\restaurant\\lib\\site-packages\\keras\\engine\\base_layer.py\", line 1014, in __call__\n      outputs = call_fn(inputs, *args, **kwargs)\n    File \"c:\\Users\\ravi1\\anaconda3\\envs\\restaurant\\lib\\site-packages\\keras\\utils\\traceback_utils.py\", line 92, in error_handler\n      return fn(*args, **kwargs)\n    File \"c:\\Users\\ravi1\\anaconda3\\envs\\restaurant\\lib\\site-packages\\transformers\\modeling_tf_utils.py\", line 1078, in run_call_with_unpacked_inputs\n      arg_names = list(dict(inspect.signature(self.call).parameters).keys())\n    File \"c:\\Users\\ravi1\\anaconda3\\envs\\restaurant\\lib\\site-packages\\transformers\\models\\bert\\modeling_tf_bert.py\", line 869, in call\n      encoder_outputs = self.encoder(\n    File \"c:\\Users\\ravi1\\anaconda3\\envs\\restaurant\\lib\\site-packages\\keras\\utils\\traceback_utils.py\", line 64, in error_handler\n      return fn(*args, **kwargs)\n    File \"c:\\Users\\ravi1\\anaconda3\\envs\\restaurant\\lib\\site-packages\\keras\\engine\\base_layer.py\", line 1014, in __call__\n      outputs = call_fn(inputs, *args, **kwargs)\n    File \"c:\\Users\\ravi1\\anaconda3\\envs\\restaurant\\lib\\site-packages\\keras\\utils\\traceback_utils.py\", line 92, in error_handler\n      return fn(*args, **kwargs)\n    File \"c:\\Users\\ravi1\\anaconda3\\envs\\restaurant\\lib\\site-packages\\transformers\\models\\bert\\modeling_tf_bert.py\", line 554, in call\n      for i, layer_module in enumerate(self.layer):\n    File \"c:\\Users\\ravi1\\anaconda3\\envs\\restaurant\\lib\\site-packages\\transformers\\models\\bert\\modeling_tf_bert.py\", line 560, in call\n      layer_outputs = layer_module(\n    File \"c:\\Users\\ravi1\\anaconda3\\envs\\restaurant\\lib\\site-packages\\keras\\utils\\traceback_utils.py\", line 64, in error_handler\n      return fn(*args, **kwargs)\n    File \"c:\\Users\\ravi1\\anaconda3\\envs\\restaurant\\lib\\site-packages\\keras\\engine\\base_layer.py\", line 1014, in __call__\n      outputs = call_fn(inputs, *args, **kwargs)\n    File \"c:\\Users\\ravi1\\anaconda3\\envs\\restaurant\\lib\\site-packages\\keras\\utils\\traceback_utils.py\", line 92, in error_handler\n      return fn(*args, **kwargs)\n    File \"c:\\Users\\ravi1\\anaconda3\\envs\\restaurant\\lib\\site-packages\\transformers\\models\\bert\\modeling_tf_bert.py\", line 516, in call\n      intermediate_output = self.intermediate(hidden_states=attention_output)\n    File \"c:\\Users\\ravi1\\anaconda3\\envs\\restaurant\\lib\\site-packages\\keras\\utils\\traceback_utils.py\", line 64, in error_handler\n      return fn(*args, **kwargs)\n    File \"c:\\Users\\ravi1\\anaconda3\\envs\\restaurant\\lib\\site-packages\\keras\\engine\\base_layer.py\", line 1014, in __call__\n      outputs = call_fn(inputs, *args, **kwargs)\n    File \"c:\\Users\\ravi1\\anaconda3\\envs\\restaurant\\lib\\site-packages\\keras\\utils\\traceback_utils.py\", line 92, in error_handler\n      return fn(*args, **kwargs)\n    File \"c:\\Users\\ravi1\\anaconda3\\envs\\restaurant\\lib\\site-packages\\transformers\\models\\bert\\modeling_tf_bert.py\", line 419, in call\n      hidden_states = self.dense(inputs=hidden_states)\n    File \"c:\\Users\\ravi1\\anaconda3\\envs\\restaurant\\lib\\site-packages\\keras\\utils\\traceback_utils.py\", line 64, in error_handler\n      return fn(*args, **kwargs)\n    File \"c:\\Users\\ravi1\\anaconda3\\envs\\restaurant\\lib\\site-packages\\keras\\engine\\base_layer.py\", line 1014, in __call__\n      outputs = call_fn(inputs, *args, **kwargs)\n    File \"c:\\Users\\ravi1\\anaconda3\\envs\\restaurant\\lib\\site-packages\\keras\\utils\\traceback_utils.py\", line 92, in error_handler\n      return fn(*args, **kwargs)\n    File \"c:\\Users\\ravi1\\anaconda3\\envs\\restaurant\\lib\\site-packages\\keras\\layers\\core\\dense.py\", line 224, in call\n      outputs = tf.tensordot(inputs, self.kernel, [[rank - 1], [0]])\nNode: 'model/tf_bert_model/bert/encoder/layer_._0/intermediate/dense/Tensordot/MatMul'\nOOM when allocating tensor with shape[8910,3072] and type float on /job:localhost/replica:0/task:0/device:GPU:0 by allocator GPU_0_bfc\n\t [[{{node model/tf_bert_model/bert/encoder/layer_._0/intermediate/dense/Tensordot/MatMul}}]]\nHint: If you want to see a list of allocated tensors when OOM happens, add report_tensor_allocations_upon_oom to RunOptions for current allocation info. This isn't available when running in Eager mode.\n [Op:__inference_train_function_27770]",
     "output_type": "error",
     "traceback": [
      "\u001b[1;31m---------------------------------------------------------------------------\u001b[0m",
      "\u001b[1;31mResourceExhaustedError\u001b[0m                    Traceback (most recent call last)",
      "\u001b[1;32md:\\shop_files_for_kaggle\\shop_duplicate-experiment\\tpu_test_training.ipynb Cell 14'\u001b[0m in \u001b[0;36m<cell line: 1>\u001b[1;34m()\u001b[0m\n\u001b[0;32m     <a href='vscode-notebook-cell:/d%3A/shop_files_for_kaggle/shop_duplicate-experiment/tpu_test_training.ipynb#ch0000008?line=36'>37</a>\u001b[0m early\u001b[39m=\u001b[39mtf\u001b[39m.\u001b[39mkeras\u001b[39m.\u001b[39mcallbacks\u001b[39m.\u001b[39mEarlyStopping(monitor\u001b[39m=\u001b[39m\u001b[39m\"\u001b[39m\u001b[39mval_loss\u001b[39m\u001b[39m\"\u001b[39m,mode\u001b[39m=\u001b[39m\u001b[39m\"\u001b[39m\u001b[39mmin\u001b[39m\u001b[39m\"\u001b[39m,verbose\u001b[39m=\u001b[39m\u001b[39m1\u001b[39m,patience\u001b[39m=\u001b[39m\u001b[39m10\u001b[39m)\n\u001b[0;32m     <a href='vscode-notebook-cell:/d%3A/shop_files_for_kaggle/shop_duplicate-experiment/tpu_test_training.ipynb#ch0000008?line=37'>38</a>\u001b[0m saver\u001b[39m=\u001b[39mtf\u001b[39m.\u001b[39mkeras\u001b[39m.\u001b[39mcallbacks\u001b[39m.\u001b[39mModelCheckpoint(filepath\u001b[39m=\u001b[39mPRE_TRAINED_NAME\u001b[39m+\u001b[39m\u001b[39mf\u001b[39m\u001b[39m\"\u001b[39m\u001b[39m{\u001b[39;00mfold\u001b[39m}\u001b[39;00m\u001b[39m.h5\u001b[39m\u001b[39m\"\u001b[39m,\n\u001b[0;32m     <a href='vscode-notebook-cell:/d%3A/shop_files_for_kaggle/shop_duplicate-experiment/tpu_test_training.ipynb#ch0000008?line=38'>39</a>\u001b[0m                                  monitor\u001b[39m=\u001b[39m\u001b[39m\"\u001b[39m\u001b[39mval_loss\u001b[39m\u001b[39m\"\u001b[39m,mode\u001b[39m=\u001b[39m\u001b[39m\"\u001b[39m\u001b[39mmin\u001b[39m\u001b[39m\"\u001b[39m,save_best_only\u001b[39m=\u001b[39m\u001b[39mTrue\u001b[39;00m,\n\u001b[0;32m     <a href='vscode-notebook-cell:/d%3A/shop_files_for_kaggle/shop_duplicate-experiment/tpu_test_training.ipynb#ch0000008?line=39'>40</a>\u001b[0m                                  save_weights_only\u001b[39m=\u001b[39m\u001b[39mTrue\u001b[39;00m,verbose\u001b[39m=\u001b[39m\u001b[39m1\u001b[39m)\n\u001b[1;32m---> <a href='vscode-notebook-cell:/d%3A/shop_files_for_kaggle/shop_duplicate-experiment/tpu_test_training.ipynb#ch0000008?line=40'>41</a>\u001b[0m model\u001b[39m.\u001b[39;49mfit(TRAIN_INPUTS,TRAIN_OUTPUTS,\n\u001b[0;32m     <a href='vscode-notebook-cell:/d%3A/shop_files_for_kaggle/shop_duplicate-experiment/tpu_test_training.ipynb#ch0000008?line=41'>42</a>\u001b[0m           validation_data\u001b[39m=\u001b[39;49m(TEST_INPUTS,TEST_OUTPUTS),epochs\u001b[39m=\u001b[39;49m\u001b[39m40\u001b[39;49m,\n\u001b[0;32m     <a href='vscode-notebook-cell:/d%3A/shop_files_for_kaggle/shop_duplicate-experiment/tpu_test_training.ipynb#ch0000008?line=42'>43</a>\u001b[0m           callbacks\u001b[39m=\u001b[39;49m[early,saver],steps_per_epoch\u001b[39m=\u001b[39;49mNUM_TRAIN_STEPS,\n\u001b[0;32m     <a href='vscode-notebook-cell:/d%3A/shop_files_for_kaggle/shop_duplicate-experiment/tpu_test_training.ipynb#ch0000008?line=43'>44</a>\u001b[0m          validation_steps\u001b[39m=\u001b[39;49mNUM_VALID_STEPS)\n\u001b[0;32m     <a href='vscode-notebook-cell:/d%3A/shop_files_for_kaggle/shop_duplicate-experiment/tpu_test_training.ipynb#ch0000008?line=44'>45</a>\u001b[0m \u001b[39mprint\u001b[39m(\u001b[39mf\u001b[39m\u001b[39m\"\u001b[39m\u001b[39mmodel training for \u001b[39m\u001b[39m{\u001b[39;00mfold\u001b[39m}\u001b[39;00m\u001b[39m is done\u001b[39m\u001b[39m\"\u001b[39m)\n\u001b[0;32m     <a href='vscode-notebook-cell:/d%3A/shop_files_for_kaggle/shop_duplicate-experiment/tpu_test_training.ipynb#ch0000008?line=45'>46</a>\u001b[0m \u001b[39mdel\u001b[39;00m model\n",
      "File \u001b[1;32mc:\\Users\\ravi1\\anaconda3\\envs\\restaurant\\lib\\site-packages\\keras\\utils\\traceback_utils.py:67\u001b[0m, in \u001b[0;36mfilter_traceback.<locals>.error_handler\u001b[1;34m(*args, **kwargs)\u001b[0m\n\u001b[0;32m     65\u001b[0m \u001b[39mexcept\u001b[39;00m \u001b[39mException\u001b[39;00m \u001b[39mas\u001b[39;00m e:  \u001b[39m# pylint: disable=broad-except\u001b[39;00m\n\u001b[0;32m     66\u001b[0m   filtered_tb \u001b[39m=\u001b[39m _process_traceback_frames(e\u001b[39m.\u001b[39m__traceback__)\n\u001b[1;32m---> 67\u001b[0m   \u001b[39mraise\u001b[39;00m e\u001b[39m.\u001b[39mwith_traceback(filtered_tb) \u001b[39mfrom\u001b[39;00m \u001b[39mNone\u001b[39m\n\u001b[0;32m     68\u001b[0m \u001b[39mfinally\u001b[39;00m:\n\u001b[0;32m     69\u001b[0m   \u001b[39mdel\u001b[39;00m filtered_tb\n",
      "File \u001b[1;32mc:\\Users\\ravi1\\anaconda3\\envs\\restaurant\\lib\\site-packages\\tensorflow\\python\\eager\\execute.py:54\u001b[0m, in \u001b[0;36mquick_execute\u001b[1;34m(op_name, num_outputs, inputs, attrs, ctx, name)\u001b[0m\n\u001b[0;32m     52\u001b[0m \u001b[39mtry\u001b[39;00m:\n\u001b[0;32m     53\u001b[0m   ctx\u001b[39m.\u001b[39mensure_initialized()\n\u001b[1;32m---> 54\u001b[0m   tensors \u001b[39m=\u001b[39m pywrap_tfe\u001b[39m.\u001b[39mTFE_Py_Execute(ctx\u001b[39m.\u001b[39m_handle, device_name, op_name,\n\u001b[0;32m     55\u001b[0m                                       inputs, attrs, num_outputs)\n\u001b[0;32m     56\u001b[0m \u001b[39mexcept\u001b[39;00m core\u001b[39m.\u001b[39m_NotOkStatusException \u001b[39mas\u001b[39;00m e:\n\u001b[0;32m     57\u001b[0m   \u001b[39mif\u001b[39;00m name \u001b[39mis\u001b[39;00m \u001b[39mnot\u001b[39;00m \u001b[39mNone\u001b[39;00m:\n",
      "\u001b[1;31mResourceExhaustedError\u001b[0m: Graph execution error:\n\nDetected at node 'model/tf_bert_model/bert/encoder/layer_._0/intermediate/dense/Tensordot/MatMul' defined at (most recent call last):\n    File \"c:\\Users\\ravi1\\anaconda3\\envs\\restaurant\\lib\\runpy.py\", line 197, in _run_module_as_main\n      return _run_code(code, main_globals, None,\n    File \"c:\\Users\\ravi1\\anaconda3\\envs\\restaurant\\lib\\runpy.py\", line 87, in _run_code\n      exec(code, run_globals)\n    File \"c:\\Users\\ravi1\\anaconda3\\envs\\restaurant\\lib\\site-packages\\ipykernel_launcher.py\", line 17, in <module>\n      app.launch_new_instance()\n    File \"c:\\Users\\ravi1\\anaconda3\\envs\\restaurant\\lib\\site-packages\\traitlets\\config\\application.py\", line 976, in launch_instance\n      app.start()\n    File \"c:\\Users\\ravi1\\anaconda3\\envs\\restaurant\\lib\\site-packages\\ipykernel\\kernelapp.py\", line 712, in start\n      self.io_loop.start()\n    File \"c:\\Users\\ravi1\\anaconda3\\envs\\restaurant\\lib\\site-packages\\tornado\\platform\\asyncio.py\", line 199, in start\n      self.asyncio_loop.run_forever()\n    File \"c:\\Users\\ravi1\\anaconda3\\envs\\restaurant\\lib\\asyncio\\base_events.py\", line 601, in run_forever\n      self._run_once()\n    File \"c:\\Users\\ravi1\\anaconda3\\envs\\restaurant\\lib\\asyncio\\base_events.py\", line 1905, in _run_once\n      handle._run()\n    File \"c:\\Users\\ravi1\\anaconda3\\envs\\restaurant\\lib\\asyncio\\events.py\", line 80, in _run\n      self._context.run(self._callback, *self._args)\n    File \"c:\\Users\\ravi1\\anaconda3\\envs\\restaurant\\lib\\site-packages\\ipykernel\\kernelbase.py\", line 510, in dispatch_queue\n      await self.process_one()\n    File \"c:\\Users\\ravi1\\anaconda3\\envs\\restaurant\\lib\\site-packages\\ipykernel\\kernelbase.py\", line 499, in process_one\n      await dispatch(*args)\n    File \"c:\\Users\\ravi1\\anaconda3\\envs\\restaurant\\lib\\site-packages\\ipykernel\\kernelbase.py\", line 406, in dispatch_shell\n      await result\n    File \"c:\\Users\\ravi1\\anaconda3\\envs\\restaurant\\lib\\site-packages\\ipykernel\\kernelbase.py\", line 730, in execute_request\n      reply_content = await reply_content\n    File \"c:\\Users\\ravi1\\anaconda3\\envs\\restaurant\\lib\\site-packages\\ipykernel\\ipkernel.py\", line 383, in do_execute\n      res = shell.run_cell(\n    File \"c:\\Users\\ravi1\\anaconda3\\envs\\restaurant\\lib\\site-packages\\ipykernel\\zmqshell.py\", line 528, in run_cell\n      return super().run_cell(*args, **kwargs)\n    File \"c:\\Users\\ravi1\\anaconda3\\envs\\restaurant\\lib\\site-packages\\IPython\\core\\interactiveshell.py\", line 2881, in run_cell\n      result = self._run_cell(\n    File \"c:\\Users\\ravi1\\anaconda3\\envs\\restaurant\\lib\\site-packages\\IPython\\core\\interactiveshell.py\", line 2936, in _run_cell\n      return runner(coro)\n    File \"c:\\Users\\ravi1\\anaconda3\\envs\\restaurant\\lib\\site-packages\\IPython\\core\\async_helpers.py\", line 129, in _pseudo_sync_runner\n      coro.send(None)\n    File \"c:\\Users\\ravi1\\anaconda3\\envs\\restaurant\\lib\\site-packages\\IPython\\core\\interactiveshell.py\", line 3135, in run_cell_async\n      has_raised = await self.run_ast_nodes(code_ast.body, cell_name,\n    File \"c:\\Users\\ravi1\\anaconda3\\envs\\restaurant\\lib\\site-packages\\IPython\\core\\interactiveshell.py\", line 3338, in run_ast_nodes\n      if await self.run_code(code, result, async_=asy):\n    File \"c:\\Users\\ravi1\\anaconda3\\envs\\restaurant\\lib\\site-packages\\IPython\\core\\interactiveshell.py\", line 3398, in run_code\n      exec(code_obj, self.user_global_ns, self.user_ns)\n    File \"C:\\Users\\ravi1\\AppData\\Local\\Temp\\ipykernel_7140\\510268190.py\", line 41, in <cell line: 1>\n      model.fit(TRAIN_INPUTS,TRAIN_OUTPUTS,\n    File \"c:\\Users\\ravi1\\anaconda3\\envs\\restaurant\\lib\\site-packages\\keras\\utils\\traceback_utils.py\", line 64, in error_handler\n      return fn(*args, **kwargs)\n    File \"c:\\Users\\ravi1\\anaconda3\\envs\\restaurant\\lib\\site-packages\\keras\\engine\\training.py\", line 1409, in fit\n      tmp_logs = self.train_function(iterator)\n    File \"c:\\Users\\ravi1\\anaconda3\\envs\\restaurant\\lib\\site-packages\\keras\\engine\\training.py\", line 1051, in train_function\n      return step_function(self, iterator)\n    File \"c:\\Users\\ravi1\\anaconda3\\envs\\restaurant\\lib\\site-packages\\keras\\engine\\training.py\", line 1040, in step_function\n      outputs = model.distribute_strategy.run(run_step, args=(data,))\n    File \"c:\\Users\\ravi1\\anaconda3\\envs\\restaurant\\lib\\site-packages\\keras\\engine\\training.py\", line 1030, in run_step\n      outputs = model.train_step(data)\n    File \"c:\\Users\\ravi1\\anaconda3\\envs\\restaurant\\lib\\site-packages\\keras\\engine\\training.py\", line 889, in train_step\n      y_pred = self(x, training=True)\n    File \"c:\\Users\\ravi1\\anaconda3\\envs\\restaurant\\lib\\site-packages\\keras\\utils\\traceback_utils.py\", line 64, in error_handler\n      return fn(*args, **kwargs)\n    File \"c:\\Users\\ravi1\\anaconda3\\envs\\restaurant\\lib\\site-packages\\keras\\engine\\training.py\", line 490, in __call__\n      return super().__call__(*args, **kwargs)\n    File \"c:\\Users\\ravi1\\anaconda3\\envs\\restaurant\\lib\\site-packages\\keras\\utils\\traceback_utils.py\", line 64, in error_handler\n      return fn(*args, **kwargs)\n    File \"c:\\Users\\ravi1\\anaconda3\\envs\\restaurant\\lib\\site-packages\\keras\\engine\\base_layer.py\", line 1014, in __call__\n      outputs = call_fn(inputs, *args, **kwargs)\n    File \"c:\\Users\\ravi1\\anaconda3\\envs\\restaurant\\lib\\site-packages\\keras\\utils\\traceback_utils.py\", line 92, in error_handler\n      return fn(*args, **kwargs)\n    File \"c:\\Users\\ravi1\\anaconda3\\envs\\restaurant\\lib\\site-packages\\keras\\engine\\functional.py\", line 458, in call\n      return self._run_internal_graph(\n    File \"c:\\Users\\ravi1\\anaconda3\\envs\\restaurant\\lib\\site-packages\\keras\\engine\\functional.py\", line 596, in _run_internal_graph\n      outputs = node.layer(*args, **kwargs)\n    File \"c:\\Users\\ravi1\\anaconda3\\envs\\restaurant\\lib\\site-packages\\keras\\utils\\traceback_utils.py\", line 64, in error_handler\n      return fn(*args, **kwargs)\n    File \"c:\\Users\\ravi1\\anaconda3\\envs\\restaurant\\lib\\site-packages\\keras\\engine\\training.py\", line 490, in __call__\n      return super().__call__(*args, **kwargs)\n    File \"c:\\Users\\ravi1\\anaconda3\\envs\\restaurant\\lib\\site-packages\\keras\\utils\\traceback_utils.py\", line 64, in error_handler\n      return fn(*args, **kwargs)\n    File \"c:\\Users\\ravi1\\anaconda3\\envs\\restaurant\\lib\\site-packages\\keras\\engine\\base_layer.py\", line 1014, in __call__\n      outputs = call_fn(inputs, *args, **kwargs)\n    File \"c:\\Users\\ravi1\\anaconda3\\envs\\restaurant\\lib\\site-packages\\keras\\utils\\traceback_utils.py\", line 92, in error_handler\n      return fn(*args, **kwargs)\n    File \"c:\\Users\\ravi1\\anaconda3\\envs\\restaurant\\lib\\site-packages\\transformers\\modeling_tf_utils.py\", line 1078, in run_call_with_unpacked_inputs\n      arg_names = list(dict(inspect.signature(self.call).parameters).keys())\n    File \"c:\\Users\\ravi1\\anaconda3\\envs\\restaurant\\lib\\site-packages\\transformers\\models\\bert\\modeling_tf_bert.py\", line 1109, in call\n      outputs = self.bert(\n    File \"c:\\Users\\ravi1\\anaconda3\\envs\\restaurant\\lib\\site-packages\\keras\\utils\\traceback_utils.py\", line 64, in error_handler\n      return fn(*args, **kwargs)\n    File \"c:\\Users\\ravi1\\anaconda3\\envs\\restaurant\\lib\\site-packages\\keras\\engine\\base_layer.py\", line 1014, in __call__\n      outputs = call_fn(inputs, *args, **kwargs)\n    File \"c:\\Users\\ravi1\\anaconda3\\envs\\restaurant\\lib\\site-packages\\keras\\utils\\traceback_utils.py\", line 92, in error_handler\n      return fn(*args, **kwargs)\n    File \"c:\\Users\\ravi1\\anaconda3\\envs\\restaurant\\lib\\site-packages\\transformers\\modeling_tf_utils.py\", line 1078, in run_call_with_unpacked_inputs\n      arg_names = list(dict(inspect.signature(self.call).parameters).keys())\n    File \"c:\\Users\\ravi1\\anaconda3\\envs\\restaurant\\lib\\site-packages\\transformers\\models\\bert\\modeling_tf_bert.py\", line 869, in call\n      encoder_outputs = self.encoder(\n    File \"c:\\Users\\ravi1\\anaconda3\\envs\\restaurant\\lib\\site-packages\\keras\\utils\\traceback_utils.py\", line 64, in error_handler\n      return fn(*args, **kwargs)\n    File \"c:\\Users\\ravi1\\anaconda3\\envs\\restaurant\\lib\\site-packages\\keras\\engine\\base_layer.py\", line 1014, in __call__\n      outputs = call_fn(inputs, *args, **kwargs)\n    File \"c:\\Users\\ravi1\\anaconda3\\envs\\restaurant\\lib\\site-packages\\keras\\utils\\traceback_utils.py\", line 92, in error_handler\n      return fn(*args, **kwargs)\n    File \"c:\\Users\\ravi1\\anaconda3\\envs\\restaurant\\lib\\site-packages\\transformers\\models\\bert\\modeling_tf_bert.py\", line 554, in call\n      for i, layer_module in enumerate(self.layer):\n    File \"c:\\Users\\ravi1\\anaconda3\\envs\\restaurant\\lib\\site-packages\\transformers\\models\\bert\\modeling_tf_bert.py\", line 560, in call\n      layer_outputs = layer_module(\n    File \"c:\\Users\\ravi1\\anaconda3\\envs\\restaurant\\lib\\site-packages\\keras\\utils\\traceback_utils.py\", line 64, in error_handler\n      return fn(*args, **kwargs)\n    File \"c:\\Users\\ravi1\\anaconda3\\envs\\restaurant\\lib\\site-packages\\keras\\engine\\base_layer.py\", line 1014, in __call__\n      outputs = call_fn(inputs, *args, **kwargs)\n    File \"c:\\Users\\ravi1\\anaconda3\\envs\\restaurant\\lib\\site-packages\\keras\\utils\\traceback_utils.py\", line 92, in error_handler\n      return fn(*args, **kwargs)\n    File \"c:\\Users\\ravi1\\anaconda3\\envs\\restaurant\\lib\\site-packages\\transformers\\models\\bert\\modeling_tf_bert.py\", line 516, in call\n      intermediate_output = self.intermediate(hidden_states=attention_output)\n    File \"c:\\Users\\ravi1\\anaconda3\\envs\\restaurant\\lib\\site-packages\\keras\\utils\\traceback_utils.py\", line 64, in error_handler\n      return fn(*args, **kwargs)\n    File \"c:\\Users\\ravi1\\anaconda3\\envs\\restaurant\\lib\\site-packages\\keras\\engine\\base_layer.py\", line 1014, in __call__\n      outputs = call_fn(inputs, *args, **kwargs)\n    File \"c:\\Users\\ravi1\\anaconda3\\envs\\restaurant\\lib\\site-packages\\keras\\utils\\traceback_utils.py\", line 92, in error_handler\n      return fn(*args, **kwargs)\n    File \"c:\\Users\\ravi1\\anaconda3\\envs\\restaurant\\lib\\site-packages\\transformers\\models\\bert\\modeling_tf_bert.py\", line 419, in call\n      hidden_states = self.dense(inputs=hidden_states)\n    File \"c:\\Users\\ravi1\\anaconda3\\envs\\restaurant\\lib\\site-packages\\keras\\utils\\traceback_utils.py\", line 64, in error_handler\n      return fn(*args, **kwargs)\n    File \"c:\\Users\\ravi1\\anaconda3\\envs\\restaurant\\lib\\site-packages\\keras\\engine\\base_layer.py\", line 1014, in __call__\n      outputs = call_fn(inputs, *args, **kwargs)\n    File \"c:\\Users\\ravi1\\anaconda3\\envs\\restaurant\\lib\\site-packages\\keras\\utils\\traceback_utils.py\", line 92, in error_handler\n      return fn(*args, **kwargs)\n    File \"c:\\Users\\ravi1\\anaconda3\\envs\\restaurant\\lib\\site-packages\\keras\\layers\\core\\dense.py\", line 224, in call\n      outputs = tf.tensordot(inputs, self.kernel, [[rank - 1], [0]])\nNode: 'model/tf_bert_model/bert/encoder/layer_._0/intermediate/dense/Tensordot/MatMul'\nOOM when allocating tensor with shape[8910,3072] and type float on /job:localhost/replica:0/task:0/device:GPU:0 by allocator GPU_0_bfc\n\t [[{{node model/tf_bert_model/bert/encoder/layer_._0/intermediate/dense/Tensordot/MatMul}}]]\nHint: If you want to see a list of allocated tensors when OOM happens, add report_tensor_allocations_upon_oom to RunOptions for current allocation info. This isn't available when running in Eager mode.\n [Op:__inference_train_function_27770]"
     ]
    }
   ],
   "source": [
    "for fold in range(5):\n",
    "    TRAIN_INPUTS,TRAIN_OUTPUTS=FOLDS_INPUTS[fold]['train']\n",
    "    TEST_INPUTS,TEST_OUTPUTS=FOLDS_INPUTS[fold]['test']\n",
    "    NUM_TRAIN_STEPS=train_steps[fold]//BATCH_SIZE\n",
    "    NUM_VALID_STEPS=valid_steps[fold]//BATCH_SIZE\n",
    "    tf.keras.backend.clear_session()\n",
    "    with strategy.scope():\n",
    "        input_ids=Input((MAX_LENGTH,),dtype=tf.int32)\n",
    "        attention_mask=Input((MAX_LENGTH,),dtype=tf.int32)\n",
    "        token_type_ids=Input((MAX_LENGTH,),dtype=tf.int32)\n",
    "        ins=Input((),name=\"label_input\")\n",
    "        pre_trained=TFBertModel.from_pretrained(PRE_TRAINED_NAME,output_hidden_states=True)\n",
    "        pre_outputs=pre_trained({\"input_ids\":input_ids,\"attention_mask\":attention_mask,\n",
    "                        \"token_type_ids\":token_type_ids})\n",
    "        hidden_layers=[]\n",
    "        k=0\n",
    "        for i in reversed(range(len(pre_outputs['hidden_states']))):\n",
    "            if k<4:\n",
    "                hidden_layers.append(pre_outputs['hidden_states'][i])\n",
    "                k+=1\n",
    "            else:\n",
    "                break\n",
    "        x=tf.keras.layers.Concatenate()(hidden_layers)[:,0,:]\n",
    "        #x=pre_outputs['pooler_output']\n",
    "        x=Dense(512)(x)\n",
    "        arc_layer=ARCFACE_LAYER()\n",
    "        x=arc_layer([x,ins])\n",
    "        outs=tf.keras.layers.Softmax()(x)\n",
    "        model=Model(inputs=({\"input_ids\":input_ids,\"attention_mask\":attention_mask,\n",
    "                        \"token_type_ids\":token_type_ids},ins),outputs=outs)\n",
    "        print(f\"training for fold {fold}\")\n",
    "        if fold==0:\n",
    "            print(model.summary())\n",
    "        model.compile(optimizer=tf.keras.optimizers.Adam(learning_rate=5e-5),\n",
    "            loss=tf.keras.losses.SparseCategoricalCrossentropy(),\n",
    "            metrics=[tf.keras.metrics.SparseCategoricalAccuracy()])\n",
    "    early=tf.keras.callbacks.EarlyStopping(monitor=\"val_loss\",mode=\"min\",verbose=1,patience=10)\n",
    "    saver=tf.keras.callbacks.ModelCheckpoint(filepath=PRE_TRAINED_NAME+f\"{fold}.h5\",\n",
    "                                     monitor=\"val_loss\",mode=\"min\",save_best_only=True,\n",
    "                                     save_weights_only=True,verbose=1)\n",
    "    model.fit(TRAIN_INPUTS,TRAIN_OUTPUTS,\n",
    "              validation_data=(TEST_INPUTS,TEST_OUTPUTS),epochs=40,\n",
    "              callbacks=[early,saver],steps_per_epoch=NUM_TRAIN_STEPS,\n",
    "             validation_steps=NUM_VALID_STEPS)\n",
    "    print(f\"model training for {fold} is done\")\n",
    "    del model\n",
    "    import gc\n",
    "    gc.collect()"
   ]
  },
  {
   "cell_type": "code",
   "execution_count": null,
   "metadata": {},
   "outputs": [],
   "source": []
  }
 ],
 "metadata": {
  "kernelspec": {
   "display_name": "Python 3.9.13 ('restaurant')",
   "language": "python",
   "name": "python3"
  },
  "language_info": {
   "codemirror_mode": {
    "name": "ipython",
    "version": 3
   },
   "file_extension": ".py",
   "mimetype": "text/x-python",
   "name": "python",
   "nbconvert_exporter": "python",
   "pygments_lexer": "ipython3",
   "version": "3.9.13"
  },
  "orig_nbformat": 4,
  "vscode": {
   "interpreter": {
    "hash": "2c6862e46755864499758dfbae00ce2d57952673e4a3eab383efcd7ba4035ea3"
   }
  }
 },
 "nbformat": 4,
 "nbformat_minor": 2
}
